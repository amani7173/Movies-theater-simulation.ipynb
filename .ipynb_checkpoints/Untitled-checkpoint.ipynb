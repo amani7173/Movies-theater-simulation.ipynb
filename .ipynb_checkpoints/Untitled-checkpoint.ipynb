{
 "cells": [
  {
   "cell_type": "code",
   "execution_count": 1,
   "id": "7ad9994f-9e16-4104-882f-77bc463bb87e",
   "metadata": {},
   "outputs": [],
   "source": [
    "from numpy import random\n",
    "import numpy as np"
   ]
  },
  {
   "cell_type": "code",
   "execution_count": 14,
   "id": "6cda3533-7cd1-4199-82d2-f231c3c68ae3",
   "metadata": {},
   "outputs": [],
   "source": [
    "    class movie_theater:\n",
    "\n",
    "        def __init__(self, seats=30, screens=5):\n",
    "            self.seats = seats\n",
    "            self.screens = screens\n",
    "            pass \n",
    "            \n",
    "        def movie_th(seats=30):\n",
    "            ticket_cost = 75\n",
    "            ticket_cost_child = 50 \n",
    "            ticket_senior_citizens= 60\n",
    "            movies = ['Father', 'The Barkers', 'Soul', 'NomadLand', 'Tom Jerry']\n",
    "            screens = 5\n",
    "            week_days =[]\n",
    "            for day in range(1,8,1):\n",
    "                    #print(len(week_days))\n",
    "                    # Keep track of total revenue for the day\n",
    "                    total_revenue_day =0\n",
    "                    disc=0\n",
    "                    for screen in range (1,5,1):\n",
    "                        for each_screen in range (seats):\n",
    "                            visitors_adults = random.choice(seats+1)\n",
    "                            visitors_children= random.choice(seats+1)\n",
    "                            visitors_senior_citizens= random.choice(seats+1)\n",
    "\n",
    "\n",
    "                            # Calculate revenue, and add to running total for the day For theater\n",
    "                            revenue_adults = visitors_adults * ticket_cost\n",
    "                            revenue_children = visitors_children * ticket_cost_child\n",
    "\n",
    "                            # 10% discount on senior citizen ticket costs\n",
    "                            if (day==6):\n",
    "                                disc=ticket_senior_citizens*0.9\n",
    "                                revenue_senior_citizens = disc * visitors_senior_citizens\n",
    "                            else:\n",
    "                                revenue_senior_citizens = visitors_senior_citizens * ticket_senior_citizens\n",
    "\n",
    "\n",
    "\n",
    "                            revenue_screen = revenue_adults + revenue_children\n",
    "\n",
    "\n",
    "                            # Save total to the corresponding day for theater\n",
    "                    total_revenue_day = total_revenue_day + revenue_screen\n",
    "                    week_days.append(total_revenue_day)\n",
    "                           # week_days[day] = total_revenue_day[day]\n",
    "            return(week_days)\n",
    "\n",
    "\n",
    "\n",
    "\n",
    "\n",
    "        def max_day():\n",
    "            max_d = max(week_days)\n",
    "            count=1\n",
    "                #should edti\n",
    "            days = [\"Sun\", \"Mon\", \"Tue\", \"Wed\", \"Thu\", \"Fri\", \"Sat\"]\n",
    "            for i in week_days:\n",
    "                if ( i == max_d):\n",
    "                    print(f\"{days[count]} is the highest revenue day in the week with a total of {max_d}\")\n",
    "\n",
    "                count = count+1\n",
    "    def __repr__(self):\n",
    "        pass\n"
   ]
  },
  {
   "cell_type": "code",
   "execution_count": 15,
   "id": "c71d6287-71ab-4877-bc1b-d0f1efc7090c",
   "metadata": {},
   "outputs": [
    {
     "data": {
      "text/plain": [
       "[1250, 1400, 800, 625, 1025, 850, 1525]"
      ]
     },
     "execution_count": 15,
     "metadata": {},
     "output_type": "execute_result"
    }
   ],
   "source": [
    " movie_th(15)"
   ]
  },
  {
   "cell_type": "code",
   "execution_count": 6,
   "id": "f8ac5cc7-fa99-4d3b-9672-3765f373d51e",
   "metadata": {},
   "outputs": [
    {
     "ename": "TypeError",
     "evalue": "max_day() takes 0 positional arguments but 1 was given",
     "output_type": "error",
     "traceback": [
      "\u001b[1;31m---------------------------------------------------------------------------\u001b[0m",
      "\u001b[1;31mTypeError\u001b[0m                                 Traceback (most recent call last)",
      "\u001b[1;32m<ipython-input-6-df7d02662da5>\u001b[0m in \u001b[0;36m<module>\u001b[1;34m\u001b[0m\n\u001b[1;32m----> 1\u001b[1;33m \u001b[0mmax_day\u001b[0m\u001b[1;33m(\u001b[0m\u001b[0mmovie_th\u001b[0m\u001b[1;33m)\u001b[0m\u001b[1;33m\u001b[0m\u001b[1;33m\u001b[0m\u001b[0m\n\u001b[0m",
      "\u001b[1;31mTypeError\u001b[0m: max_day() takes 0 positional arguments but 1 was given"
     ]
    }
   ],
   "source": []
  },
  {
   "cell_type": "code",
   "execution_count": null,
   "id": "00b5dc85-66fb-4c46-b8e0-3340eb4534c3",
   "metadata": {},
   "outputs": [],
   "source": []
  }
 ],
 "metadata": {
  "kernelspec": {
   "display_name": "Python 3",
   "language": "python",
   "name": "python3"
  },
  "language_info": {
   "codemirror_mode": {
    "name": "ipython",
    "version": 3
   },
   "file_extension": ".py",
   "mimetype": "text/x-python",
   "name": "python",
   "nbconvert_exporter": "python",
   "pygments_lexer": "ipython3",
   "version": "3.8.8"
  }
 },
 "nbformat": 4,
 "nbformat_minor": 5
}
